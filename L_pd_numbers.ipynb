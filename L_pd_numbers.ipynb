{
 "cells": [
  {
   "cell_type": "code",
   "execution_count": 1,
   "id": "4cde99d3",
   "metadata": {},
   "outputs": [],
   "source": [
    "import paddle\n",
    "from paddle.nn import Linear\n",
    "import paddle.nn.functional as F\n",
    "import os\n",
    "import numpy as np\n",
    "import matplotlib.pyplot as plt"
   ]
  },
  {
   "cell_type": "code",
   "execution_count": 2,
   "id": "dc824f02",
   "metadata": {},
   "outputs": [
    {
     "name": "stderr",
     "output_type": "stream",
     "text": [
      "Cache file /home/zhanglangeba/.cache/paddle/dataset/mnist/train-images-idx3-ubyte.gz not found, downloading https://dataset.bj.bcebos.com/mnist/train-images-idx3-ubyte.gz \n",
      "Begin to download\n"
     ]
    },
    {
     "name": "stdout",
     "output_type": "stream",
     "text": [
      "item 2421/2421 [============================>.] - ETA: 0s - 3ms/item"
     ]
    },
    {
     "name": "stderr",
     "output_type": "stream",
     "text": [
      "\n",
      "Download finished\n",
      "Cache file /home/zhanglangeba/.cache/paddle/dataset/mnist/train-labels-idx1-ubyte.gz not found, downloading https://dataset.bj.bcebos.com/mnist/train-labels-idx1-ubyte.gz \n",
      "Begin to download\n"
     ]
    },
    {
     "name": "stdout",
     "output_type": "stream",
     "text": [
      "item 8/8 [============================>.] - ETA: 0s - 17ms/item"
     ]
    },
    {
     "name": "stderr",
     "output_type": "stream",
     "text": [
      "\n",
      "Download finished\n"
     ]
    }
   ],
   "source": [
    "train_dataset = paddle.vision.datasets.MNIST(mode='train')"
   ]
  },
  {
   "cell_type": "code",
   "execution_count": 23,
   "id": "aad7cf0e",
   "metadata": {},
   "outputs": [
    {
     "data": {
      "image/png": "[encoded data removed]",
      "text/plain": [
       "<Figure size 200x200 with 1 Axes>"
      ]
     },
     "metadata": {},
     "output_type": "display_data"
    }
   ],
   "source": [
    "tmp_data=np.array(train_dataset[0][0])\n",
    "tmp_label=np.array(train_dataset[0][1])\n",
    "plt.figure(figsize=(2,2))\n",
    "plt.imshow(tmp_data)\n",
    "plt.show()"
   ]
  },
  {
   "cell_type": "code",
   "execution_count": 48,
   "id": "8dd86c42",
   "metadata": {},
   "outputs": [],
   "source": [
    "class Net(paddle.nn.Layer):\n",
    "    def __init__(self):\n",
    "        super(Net, self).__init__()\n",
    "        \n",
    "        # 定义一层全连接层，输出维度是1\n",
    "        self.network = paddle.nn.Linear(in_features=784, out_features=1)\n",
    "    def forward(self,x):\n",
    "        return self.network(x)"
   ]
  },
  {
   "cell_type": "code",
   "execution_count": 49,
   "id": "01598e3f",
   "metadata": {},
   "outputs": [],
   "source": [
    "def norm_img(img):\n",
    "    assert len(img.shape)==3\n",
    "    batch_size,img_h,img_w=img.shape[0],img.shape[1],img.shape[2]\n",
    "    img=img/255\n",
    "   \n",
    "    img = paddle.reshape(img, [batch_size, img_h*img_w])\n",
    "    \n",
    "    return img"
   ]
  },
  {
   "cell_type": "code",
   "execution_count": 53,
   "id": "adf6d3af",
   "metadata": {},
   "outputs": [
    {
     "name": "stdout",
     "output_type": "stream",
     "text": [
      "epoch:0,batch_id:0,loss :[23.436562]\n",
      "epoch:0,batch_id:1000,loss :[3.3434043]\n",
      "epoch:0,batch_id:2000,loss :[3.2530408]\n",
      "epoch:0,batch_id:3000,loss :[5.427451]\n",
      "epoch:1,batch_id:0,loss :[2.7779493]\n",
      "epoch:1,batch_id:1000,loss :[4.2825127]\n",
      "epoch:1,batch_id:2000,loss :[3.4024105]\n",
      "epoch:1,batch_id:3000,loss :[5.4903626]\n",
      "epoch:2,batch_id:0,loss :[2.7026155]\n",
      "epoch:2,batch_id:1000,loss :[3.1143513]\n",
      "epoch:2,batch_id:2000,loss :[3.3248713]\n",
      "epoch:2,batch_id:3000,loss :[3.3470554]\n",
      "epoch:3,batch_id:0,loss :[3.2950013]\n",
      "epoch:3,batch_id:1000,loss :[4.1829886]\n",
      "epoch:3,batch_id:2000,loss :[4.5915985]\n",
      "epoch:3,batch_id:3000,loss :[2.1395457]\n",
      "epoch:4,batch_id:0,loss :[2.965354]\n",
      "epoch:4,batch_id:1000,loss :[2.3953462]\n",
      "epoch:4,batch_id:2000,loss :[3.0509007]\n",
      "epoch:4,batch_id:3000,loss :[4.755611]\n",
      "epoch:5,batch_id:0,loss :[4.6378336]\n",
      "epoch:5,batch_id:1000,loss :[4.3146124]\n",
      "epoch:5,batch_id:2000,loss :[3.1119897]\n",
      "epoch:5,batch_id:3000,loss :[2.5975313]\n",
      "epoch:6,batch_id:0,loss :[4.6585064]\n",
      "epoch:6,batch_id:1000,loss :[4.6328382]\n",
      "epoch:6,batch_id:2000,loss :[1.6501681]\n",
      "epoch:6,batch_id:3000,loss :[2.6559663]\n",
      "epoch:7,batch_id:0,loss :[2.6368942]\n",
      "epoch:7,batch_id:1000,loss :[3.7241237]\n",
      "epoch:7,batch_id:2000,loss :[2.7627728]\n",
      "epoch:7,batch_id:3000,loss :[2.0700526]\n",
      "epoch:8,batch_id:0,loss :[2.6133788]\n",
      "epoch:8,batch_id:1000,loss :[1.591862]\n",
      "epoch:8,batch_id:2000,loss :[2.7336488]\n",
      "epoch:8,batch_id:3000,loss :[2.7249947]\n",
      "epoch:9,batch_id:0,loss :[1.1567609]\n",
      "epoch:9,batch_id:1000,loss :[3.7601256]\n",
      "epoch:9,batch_id:2000,loss :[1.2544649]\n",
      "epoch:9,batch_id:3000,loss :[2.1914854]\n"
     ]
    }
   ],
   "source": [
    "paddle.vision.set_image_backend('cv2')\n",
    "model=Net()\n",
    "def train(model):\n",
    "    model.train()\n",
    "    train_loader=paddle.io.DataLoader(paddle.vision.datasets.MNIST(mode='train'),batch_size=16,shuffle=True)\n",
    "    opt=paddle.optimizer.SGD(learning_rate=0.001, parameters=model.parameters())\n",
    "    epochs=10\n",
    "    for epoch in range(epochs):\n",
    "        for i,data in enumerate(train_loader):\n",
    "            img_data=norm_img(data[0]).astype('float32')\n",
    "            img_label=data[1].astype('float32')\n",
    "            img_pred=model(img_data)\n",
    "            avg_loss=paddle.mean(F.square_error_cost(img_pred,img_label))\n",
    "            if i%1000==0:\n",
    "                print(\"epoch:{},batch_id:{},loss :{}\".format(epoch,i,avg_loss.numpy()))\n",
    "            avg_loss.backward()\n",
    "            opt.step()\n",
    "            opt.clear_grad()\n",
    "train(model)\n",
    "paddle.save(model.state_dict(),'model/mnist.pdparams')"
   ]
  },
  {
   "cell_type": "code",
   "execution_count": 51,
   "id": "d993056b",
   "metadata": {},
   "outputs": [
    {
     "name": "stdout",
     "output_type": "stream",
     "text": [
      "1\n"
     ]
    }
   ],
   "source": [
    "print(1)"
   ]
  },
  {
   "cell_type": "code",
   "execution_count": null,
   "id": "ad23e729",
   "metadata": {},
   "outputs": [],
   "source": []
  }
 ],
 "metadata": {
  "kernelspec": {
   "display_name": "Python [conda env:pd24py310]",
   "language": "python",
   "name": "conda-env-pd24py310-py"
  },
  "language_info": {
   "codemirror_mode": {
    "name": "ipython",
    "version": 3
   },
   "file_extension": ".py",
   "mimetype": "text/x-python",
   "name": "python",
   "nbconvert_exporter": "python",
   "pygments_lexer": "ipython3",
   "version": "3.10.12"
  },
  "toc": {
   "base_numbering": 1,
   "nav_menu": {},
   "number_sections": true,
   "sideBar": true,
   "skip_h1_title": false,
   "title_cell": "Table of Contents",
   "title_sidebar": "Contents",
   "toc_cell": false,
   "toc_position": {},
   "toc_section_display": true,
   "toc_window_display": false
  },
  "varInspector": {
   "cols": {
    "lenName": 16,
    "lenType": 16,
    "lenVar": 40
   },
   "kernels_config": {
    "python": {
     "delete_cmd_postfix": "",
     "delete_cmd_prefix": "del ",
     "library": "var_list.py",
     "varRefreshCmd": "print(var_dic_list())"
    },
    "r": {
     "delete_cmd_postfix": ") ",
     "delete_cmd_prefix": "rm(",
     "library": "var_list.r",
     "varRefreshCmd": "cat(var_dic_list()) "
    }
   },
   "types_to_exclude": [
    "module",
    "function",
    "builtin_function_or_method",
    "instance",
    "_Feature"
   ],
   "window_display": false
  }
 },
 "nbformat": 4,
 "nbformat_minor": 5
}

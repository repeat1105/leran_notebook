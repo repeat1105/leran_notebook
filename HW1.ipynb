{
 "cells": [
  {
   "cell_type": "code",
   "execution_count": 12,
   "id": "c042c563",
   "metadata": {},
   "outputs": [],
   "source": [
    "tr_path = 'covid.train.csv'  # path to training data\n",
    "tt_path = 'covid.test.csv'   # path to testing data\n",
    "\n"
   ]
  },
  {
   "cell_type": "code",
   "execution_count": 13,
   "id": "ae723ec6",
   "metadata": {
    "code_folding": []
   },
   "outputs": [],
   "source": [
    "# PyTorch\n",
    "import torch\n",
    "import torch.nn as nn\n",
    "from torch.utils.data import Dataset, DataLoader\n",
    "\n",
    "# For data preprocess\n",
    "import numpy as np\n",
    "import csv\n",
    "import os\n",
    "\n",
    "# For plotting\n",
    "import matplotlib.pyplot as plt\n",
    "from matplotlib.pyplot import figure\n",
    "\n",
    "myseed = 42069  # set a random seed for reproducibility\n",
    "torch.backends.cudnn.deterministic = True\n",
    "torch.backends.cudnn.benchmark = False\n",
    "np.random.seed(myseed)\n",
    "torch.manual_seed(myseed)\n",
    "if torch.cuda.is_available():\n",
    "    torch.cuda.manual_seed_all(myseed)"
   ]
  },
  {
   "cell_type": "code",
   "execution_count": 14,
   "id": "59596d0d",
   "metadata": {
    "code_folding": []
   },
   "outputs": [],
   "source": [
    "def get_device():\n",
    "    ''' Get device (if GPU is available, use GPU) '''\n",
    "    return 'cuda' if torch.cuda.is_available() else 'cpu'\n",
    "\n",
    "def plot_learning_curve(loss_record, title=''):\n",
    "    ''' Plot learning curve of your DNN (train & dev loss) '''\n",
    "    total_steps = len(loss_record['train'])\n",
    "    x_1 = range(total_steps)\n",
    "    x_2 = x_1[::len(loss_record['train']) // len(loss_record['dev'])]\n",
    "    figure(figsize=(6, 4))\n",
    "    plt.plot(x_1, loss_record['train'], c='tab:red', label='train')\n",
    "    plt.plot(x_2, loss_record['dev'], c='tab:cyan', label='dev')\n",
    "    plt.ylim(0.0, 5.)\n",
    "    plt.xlabel('Training steps')\n",
    "    plt.ylabel('MSE loss')\n",
    "    plt.title('Learning curve of {}'.format(title))\n",
    "    plt.legend()\n",
    "    plt.show()\n",
    "\n",
    "\n",
    "def plot_pred(dv_set, model, device, lim=35., preds=None, targets=None):\n",
    "    ''' Plot prediction of your DNN '''\n",
    "    if preds is None or targets is None:\n",
    "        model.eval()\n",
    "        preds, targets = [], []\n",
    "        for x, y in dv_set:\n",
    "            x, y = x.to(device), y.to(device)\n",
    "            with torch.no_grad():\n",
    "                pred = model(x)\n",
    "                preds.append(pred.detach().cpu())\n",
    "                targets.append(y.detach().cpu())\n",
    "        preds = torch.cat(preds, dim=0).numpy()\n",
    "        targets = torch.cat(targets, dim=0).numpy()\n",
    "\n",
    "    figure(figsize=(5, 5))\n",
    "    plt.scatter(targets, preds, c='r', alpha=0.5)\n",
    "    plt.plot([-0.2, lim], [-0.2, lim], c='b')\n",
    "    plt.xlim(-0.2, lim)\n",
    "    plt.ylim(-0.2, lim)\n",
    "    plt.xlabel('ground truth value')\n",
    "    plt.ylabel('predicted value')\n",
    "    plt.title('Ground Truth v.s. Prediction')\n",
    "    plt.show()"
   ]
  },
  {
   "cell_type": "code",
   "execution_count": 15,
   "id": "4f6ccc8b",
   "metadata": {},
   "outputs": [],
   "source": [
    "class COVID19Dataset(Dataset):\n",
    "    ''' Dataset for loading and preprocessing the COVID19 dataset '''\n",
    "    def __init__(self,\n",
    "                 path,\n",
    "                 mode='train',\n",
    "                 target_only=False):\n",
    "        self.mode = mode\n",
    "\n",
    "        # Read data into numpy arrays\n",
    "        with open(path, 'r') as fp:\n",
    "            data = list(csv.reader(fp))\n",
    "            data = np.array(data[1:])[:, 1:].astype(float)\n",
    "        \n",
    "        if not target_only:\n",
    "            feats = list(range(93))\n",
    "        else:\n",
    "            # TODO: Using 40 states & 2 tested_positive features (indices = 57 & 75)\n",
    "            pass\n",
    "\n",
    "        if mode == 'test':\n",
    "            # Testing data\n",
    "            # data: 893 x 93 (40 states + day 1 (18) + day 2 (18) + day 3 (17))\n",
    "            data = data[:, feats]\n",
    "            self.data = torch.FloatTensor(data)\n",
    "        else:\n",
    "            # Training data (train/dev sets)\n",
    "            # data: 2700 x 94 (40 states + day 1 (18) + day 2 (18) + day 3 (18))\n",
    "            target = data[:, -1]\n",
    "            data = data[:, feats]\n",
    "            \n",
    "            # Splitting training data into train & dev sets\n",
    "            if mode == 'train':\n",
    "                indices = [i for i in range(len(data)) if i % 10 != 0]\n",
    "            elif mode == 'dev':\n",
    "                indices = [i for i in range(len(data)) if i % 10 == 0]\n",
    "            \n",
    "            # Convert data into PyTorch tensors\n",
    "            self.data = torch.FloatTensor(data[indices])\n",
    "            self.target = torch.FloatTensor(target[indices])\n",
    "\n",
    "        # Normalize features (you may remove this part to see what will happen)\n",
    "        self.data[:, 40:] = \\\n",
    "            (self.data[:, 40:] - self.data[:, 40:].mean(dim=0, keepdim=True)) \\\n",
    "            / self.data[:, 40:].std(dim=0, keepdim=True)\n",
    "\n",
    "        self.dim = self.data.shape[1]\n",
    "\n",
    "        print('Finished reading the {} set of COVID19 Dataset ({} samples found, each dim = {})'\n",
    "              .format(mode, len(self.data), self.dim))\n",
    "\n",
    "    def __getitem__(self, index):\n",
    "        # Returns one sample at a time\n",
    "        if self.mode in ['train', 'dev']:\n",
    "            # For training\n",
    "            return self.data[index], self.target[index]\n",
    "        else:\n",
    "            # For testing (no target)\n",
    "            return self.data[index]\n",
    "\n",
    "    def __len__(self):\n",
    "        # Returns the size of the dataset\n",
    "        return len(self.data)"
   ]
  },
  {
   "cell_type": "code",
   "execution_count": 16,
   "id": "1b5df030",
   "metadata": {},
   "outputs": [],
   "source": [
    "def prep_dataloader(path, mode, batch_size, n_jobs=0, target_only=False):\n",
    "    ''' Generates a dataset, then is put into a dataloader. '''\n",
    "    dataset = COVID19Dataset(path, mode=mode, target_only=target_only)  # Construct dataset\n",
    "    dataloader = DataLoader(\n",
    "        dataset, batch_size,\n",
    "        shuffle=(mode == 'train'), drop_last=False,\n",
    "        num_workers=n_jobs, pin_memory=True)                            # Construct dataloader\n",
    "    return dataloader"
   ]
  },
  {
   "cell_type": "code",
   "execution_count": 17,
   "id": "606456e1",
   "metadata": {},
   "outputs": [],
   "source": [
    "class NeuralNet(nn.Module):\n",
    "    ''' A simple fully-connected deep neural network '''\n",
    "    def __init__(self, input_dim):\n",
    "        super(NeuralNet, self).__init__()\n",
    "\n",
    "        # Define your neural network here\n",
    "        # TODO: How to modify this model to achieve better performance?\n",
    "        self.net = nn.Sequential(\n",
    "            nn.Linear(input_dim, 64),\n",
    "            nn.ReLU(),\n",
    "            nn.Linear(64, 1)\n",
    "        )\n",
    "\n",
    "        # Mean squared error loss\n",
    "        self.criterion = nn.MSELoss(reduction='mean')\n",
    "\n",
    "    def forward(self, x):\n",
    "        ''' Given input of size (batch_size x input_dim), compute output of the network '''\n",
    "        return self.net(x).squeeze(1)\n",
    "\n",
    "    def cal_loss(self, pred, target):\n",
    "        ''' Calculate loss '''\n",
    "        # TODO: you may implement L1/L2 regularization here\n",
    "        return self.criterion(pred, target)"
   ]
  },
  {
   "cell_type": "code",
   "execution_count": 18,
   "id": "532bc5d5",
   "metadata": {},
   "outputs": [],
   "source": [
    "def train(tr_set, dv_set, model, config, device):\n",
    "    ''' DNN training '''\n",
    "\n",
    "    n_epochs = config['n_epochs']  # Maximum number of epochs\n",
    "\n",
    "    # Setup optimizer\n",
    "    optimizer = getattr(torch.optim, config['optimizer'])(\n",
    "        model.parameters(), **config['optim_hparas'])\n",
    "\n",
    "    min_mse = 1000.\n",
    "    loss_record = {'train': [], 'dev': []}      # for recording training loss\n",
    "    early_stop_cnt = 0\n",
    "    epoch = 0\n",
    "    while epoch < n_epochs:\n",
    "        model.train()                           # set model to training mode\n",
    "        for x, y in tr_set:                     # iterate through the dataloader\n",
    "            optimizer.zero_grad()               # set gradient to zero\n",
    "            x, y = x.to(device), y.to(device)   # move data to device (cpu/cuda)\n",
    "            pred = model(x)                     # forward pass (compute output)\n",
    "            mse_loss = model.cal_loss(pred, y)  # compute loss\n",
    "            mse_loss.backward()                 # compute gradient (backpropagation)\n",
    "            optimizer.step()                    # update model with optimizer\n",
    "            loss_record['train'].append(mse_loss.detach().cpu().item())\n",
    "\n",
    "        # After each epoch, test your model on the validation (development) set.\n",
    "        dev_mse = dev(dv_set, model, device)\n",
    "        if dev_mse < min_mse:\n",
    "            # Save model if your model improved\n",
    "            min_mse = dev_mse\n",
    "            print('Saving model (epoch = {:4d}, loss = {:.4f})'\n",
    "                .format(epoch + 1, min_mse))\n",
    "            torch.save(model.state_dict(), config['save_path'])  # Save model to specified path\n",
    "            early_stop_cnt = 0\n",
    "        else:\n",
    "            early_stop_cnt += 1\n",
    "\n",
    "        epoch += 1\n",
    "        loss_record['dev'].append(dev_mse)\n",
    "        if early_stop_cnt > config['early_stop']:\n",
    "            # Stop training if your model stops improving for \"config['early_stop']\" epochs.\n",
    "            break\n",
    "\n",
    "    print('Finished training after {} epochs'.format(epoch))\n",
    "    return min_mse, loss_record"
   ]
  },
  {
   "cell_type": "code",
   "execution_count": 19,
   "id": "560ea79f",
   "metadata": {
    "code_folding": []
   },
   "outputs": [],
   "source": [
    "def dev(dv_set, model, device):\n",
    "    model.eval()                                # set model to evalutation mode\n",
    "    total_loss = 0\n",
    "    for x, y in dv_set:                         # iterate through the dataloader\n",
    "        x, y = x.to(device), y.to(device)       # move data to device (cpu/cuda)\n",
    "        with torch.no_grad():                   # disable gradient calculation\n",
    "            pred = model(x)                     # forward pass (compute output)\n",
    "            mse_loss = model.cal_loss(pred, y)  # compute loss\n",
    "        total_loss += mse_loss.detach().cpu().item() * len(x)  # accumulate loss\n",
    "    total_loss = total_loss / len(dv_set.dataset)              # compute averaged loss\n",
    "\n",
    "    return total_loss"
   ]
  },
  {
   "cell_type": "code",
   "execution_count": 20,
   "id": "6ca0db3b",
   "metadata": {},
   "outputs": [],
   "source": [
    "def test(tt_set, model, device):\n",
    "    model.eval()                                # set model to evalutation mode\n",
    "    preds = []\n",
    "    for x in tt_set:                            # iterate through the dataloader\n",
    "        x = x.to(device)                        # move data to device (cpu/cuda)\n",
    "        with torch.no_grad():                   # disable gradient calculation\n",
    "            pred = model(x)                     # forward pass (compute output)\n",
    "            preds.append(pred.detach().cpu())   # collect prediction\n",
    "    preds = torch.cat(preds, dim=0).numpy()     # concatenate all predictions and convert to a numpy array\n",
    "    return preds"
   ]
  },
  {
   "cell_type": "code",
   "execution_count": 21,
   "id": "810cca4a",
   "metadata": {},
   "outputs": [],
   "source": [
    "device = get_device()                 # get the current available device ('cpu' or 'cuda')\n",
    "os.makedirs('models', exist_ok=True)  # The trained model will be saved to ./models/\n",
    "target_only = False                   # TODO: Using 40 states & 2 tested_positive features\n",
    "\n",
    "# TODO: How to tune these hyper-parameters to improve your model's performance?\n",
    "config = {\n",
    "    'n_epochs': 3000,                # maximum number of epochs\n",
    "    'batch_size': 270,               # mini-batch size for dataloader\n",
    "    'optimizer': 'SGD',              # optimization algorithm (optimizer in torch.optim)\n",
    "    'optim_hparas': {                # hyper-parameters for the optimizer (depends on which optimizer you are using)\n",
    "        'lr': 0.001,                 # learning rate of SGD\n",
    "        'momentum': 0.9              # momentum for SGD\n",
    "    },\n",
    "    'early_stop': 200,               # early stopping epochs (the number epochs since your model's last improvement)\n",
    "    'save_path': 'models/model.pth'  # your model will be saved here\n",
    "}"
   ]
  },
  {
   "cell_type": "code",
   "execution_count": 22,
   "id": "a0289a7f",
   "metadata": {},
   "outputs": [
    {
     "name": "stdout",
     "output_type": "stream",
     "text": [
      "Finished reading the train set of COVID19 Dataset (2430 samples found, each dim = 93)\n",
      "Finished reading the dev set of COVID19 Dataset (270 samples found, each dim = 93)\n",
      "Finished reading the test set of COVID19 Dataset (893 samples found, each dim = 93)\n"
     ]
    }
   ],
   "source": [
    "tr_set = prep_dataloader(tr_path, 'train', config['batch_size'], target_only=target_only)\n",
    "dv_set = prep_dataloader(tr_path, 'dev', config['batch_size'], target_only=target_only)\n",
    "tt_set = prep_dataloader(tt_path, 'test', config['batch_size'], target_only=target_only)"
   ]
  },
  {
   "cell_type": "code",
   "execution_count": 23,
   "id": "52626c63",
   "metadata": {},
   "outputs": [],
   "source": [
    "model = NeuralNet(tr_set.dataset.dim).to(device)"
   ]
  },
  {
   "cell_type": "code",
   "execution_count": 24,
   "id": "be22a290",
   "metadata": {},
   "outputs": [
    {
     "name": "stdout",
     "output_type": "stream",
     "text": [
      "Saving model (epoch =    1, loss = 78.8524)\n",
      "Saving model (epoch =    2, loss = 37.6170)\n",
      "Saving model (epoch =    3, loss = 26.1203)\n",
      "Saving model (epoch =    4, loss = 16.1862)\n",
      "Saving model (epoch =    5, loss = 9.7153)\n",
      "Saving model (epoch =    6, loss = 6.3701)\n",
      "Saving model (epoch =    7, loss = 5.1802)\n",
      "Saving model (epoch =    8, loss = 4.4255)\n",
      "Saving model (epoch =    9, loss = 3.8009)\n",
      "Saving model (epoch =   10, loss = 3.3691)\n",
      "Saving model (epoch =   11, loss = 3.0943)\n",
      "Saving model (epoch =   12, loss = 2.8176)\n",
      "Saving model (epoch =   13, loss = 2.6274)\n",
      "Saving model (epoch =   14, loss = 2.4542)\n",
      "Saving model (epoch =   15, loss = 2.3012)\n",
      "Saving model (epoch =   16, loss = 2.1766)\n",
      "Saving model (epoch =   17, loss = 2.0641)\n",
      "Saving model (epoch =   18, loss = 1.9399)\n",
      "Saving model (epoch =   19, loss = 1.8978)\n",
      "Saving model (epoch =   20, loss = 1.7950)\n",
      "Saving model (epoch =   21, loss = 1.7164)\n",
      "Saving model (epoch =   22, loss = 1.6455)\n",
      "Saving model (epoch =   23, loss = 1.5912)\n",
      "Saving model (epoch =   24, loss = 1.5599)\n",
      "Saving model (epoch =   25, loss = 1.5197)\n",
      "Saving model (epoch =   26, loss = 1.4698)\n",
      "Saving model (epoch =   27, loss = 1.4189)\n",
      "Saving model (epoch =   28, loss = 1.3992)\n",
      "Saving model (epoch =   29, loss = 1.3696)\n",
      "Saving model (epoch =   30, loss = 1.3442)\n",
      "Saving model (epoch =   31, loss = 1.3231)\n",
      "Saving model (epoch =   32, loss = 1.2834)\n",
      "Saving model (epoch =   33, loss = 1.2804)\n",
      "Saving model (epoch =   34, loss = 1.2471)\n",
      "Saving model (epoch =   36, loss = 1.2414)\n",
      "Saving model (epoch =   37, loss = 1.2138)\n",
      "Saving model (epoch =   38, loss = 1.2083)\n",
      "Saving model (epoch =   41, loss = 1.1591)\n",
      "Saving model (epoch =   42, loss = 1.1484)\n",
      "Saving model (epoch =   44, loss = 1.1209)\n",
      "Saving model (epoch =   47, loss = 1.1122)\n",
      "Saving model (epoch =   48, loss = 1.0937)\n",
      "Saving model (epoch =   50, loss = 1.0842)\n",
      "Saving model (epoch =   53, loss = 1.0655)\n",
      "Saving model (epoch =   54, loss = 1.0613)\n",
      "Saving model (epoch =   57, loss = 1.0524)\n",
      "Saving model (epoch =   58, loss = 1.0394)\n",
      "Saving model (epoch =   60, loss = 1.0267)\n",
      "Saving model (epoch =   63, loss = 1.0248)\n",
      "Saving model (epoch =   66, loss = 1.0099)\n",
      "Saving model (epoch =   70, loss = 0.9829)\n",
      "Saving model (epoch =   72, loss = 0.9817)\n",
      "Saving model (epoch =   73, loss = 0.9743)\n",
      "Saving model (epoch =   75, loss = 0.9671)\n",
      "Saving model (epoch =   78, loss = 0.9643)\n",
      "Saving model (epoch =   79, loss = 0.9597)\n",
      "Saving model (epoch =   85, loss = 0.9550)\n",
      "Saving model (epoch =   86, loss = 0.9535)\n",
      "Saving model (epoch =   90, loss = 0.9466)\n",
      "Saving model (epoch =   92, loss = 0.9432)\n",
      "Saving model (epoch =   93, loss = 0.9231)\n",
      "Saving model (epoch =   95, loss = 0.9127)\n",
      "Saving model (epoch =  104, loss = 0.9116)\n",
      "Saving model (epoch =  107, loss = 0.8995)\n",
      "Saving model (epoch =  110, loss = 0.8935)\n",
      "Saving model (epoch =  116, loss = 0.8885)\n",
      "Saving model (epoch =  124, loss = 0.8874)\n",
      "Saving model (epoch =  128, loss = 0.8724)\n",
      "Saving model (epoch =  134, loss = 0.8721)\n",
      "Saving model (epoch =  139, loss = 0.8672)\n",
      "Saving model (epoch =  146, loss = 0.8651)\n",
      "Saving model (epoch =  156, loss = 0.8642)\n",
      "Saving model (epoch =  159, loss = 0.8530)\n",
      "Saving model (epoch =  167, loss = 0.8498)\n",
      "Saving model (epoch =  173, loss = 0.8489)\n",
      "Saving model (epoch =  176, loss = 0.8463)\n",
      "Saving model (epoch =  178, loss = 0.8409)\n",
      "Saving model (epoch =  182, loss = 0.8374)\n",
      "Saving model (epoch =  199, loss = 0.8297)\n",
      "Saving model (epoch =  212, loss = 0.8273)\n",
      "Saving model (epoch =  235, loss = 0.8242)\n",
      "Saving model (epoch =  238, loss = 0.8222)\n",
      "Saving model (epoch =  251, loss = 0.8211)\n",
      "Saving model (epoch =  253, loss = 0.8198)\n",
      "Saving model (epoch =  258, loss = 0.8171)\n",
      "Saving model (epoch =  284, loss = 0.8136)\n",
      "Saving model (epoch =  308, loss = 0.8136)\n",
      "Saving model (epoch =  312, loss = 0.8079)\n",
      "Saving model (epoch =  324, loss = 0.8047)\n",
      "Saving model (epoch =  400, loss = 0.8038)\n",
      "Saving model (epoch =  404, loss = 0.8007)\n",
      "Saving model (epoch =  466, loss = 0.7998)\n",
      "Saving model (epoch =  472, loss = 0.7995)\n",
      "Saving model (epoch =  525, loss = 0.7991)\n",
      "Saving model (epoch =  561, loss = 0.7945)\n",
      "Saving model (epoch =  584, loss = 0.7902)\n",
      "Saving model (epoch =  665, loss = 0.7900)\n",
      "Saving model (epoch =  667, loss = 0.7884)\n",
      "Saving model (epoch =  717, loss = 0.7822)\n",
      "Saving model (epoch =  776, loss = 0.7817)\n",
      "Saving model (epoch =  835, loss = 0.7803)\n",
      "Saving model (epoch =  866, loss = 0.7773)\n",
      "Saving model (epoch =  919, loss = 0.7765)\n",
      "Saving model (epoch =  933, loss = 0.7743)\n",
      "Saving model (epoch =  965, loss = 0.7708)\n",
      "Saving model (epoch = 1027, loss = 0.7672)\n",
      "Saving model (epoch = 1119, loss = 0.7650)\n",
      "Saving model (epoch = 1140, loss = 0.7643)\n",
      "Saving model (epoch = 1196, loss = 0.7616)\n",
      "Saving model (epoch = 1234, loss = 0.7610)\n",
      "Saving model (epoch = 1243, loss = 0.7575)\n",
      "Finished training after 1444 epochs\n"
     ]
    }
   ],
   "source": [
    "model_loss, model_loss_record = train(tr_set, dv_set, model, config, device)"
   ]
  },
  {
   "cell_type": "code",
   "execution_count": 32,
   "id": "85bf1f81",
   "metadata": {},
   "outputs": [
    {
     "data": {
      "image/png": "[encoded data removed]",
      "text/plain": [
       "<Figure size 600x400 with 1 Axes>"
      ]
     },
     "metadata": {},
     "output_type": "display_data"
    }
   ],
   "source": [
    "plot_learning_curve(model_loss_record, title='deep model')"
   ]
  },
  {
   "cell_type": "code",
   "execution_count": 33,
   "id": "4da3bbb9",
   "metadata": {},
   "outputs": [
    {
     "data": {
      "image/png": "[encoded data removed]",
      "text/plain": [
       "<Figure size 500x500 with 1 Axes>"
      ]
     },
     "metadata": {},
     "output_type": "display_data"
    }
   ],
   "source": [
    "del model\n",
    "model = NeuralNet(tr_set.dataset.dim).to(device)\n",
    "ckpt = torch.load(config['save_path'], map_location='cpu')  # Load your best model\n",
    "model.load_state_dict(ckpt)\n",
    "plot_pred(dv_set, model, device)  # Show prediction on the validation set"
   ]
  },
  {
   "cell_type": "code",
   "execution_count": 34,
   "id": "df6c6367",
   "metadata": {},
   "outputs": [
    {
     "name": "stdout",
     "output_type": "stream",
     "text": [
      "Saving results to pred.csv\n"
     ]
    }
   ],
   "source": [
    "def save_pred(preds, file):\n",
    "    ''' Save predictions to specified file '''\n",
    "    print('Saving results to {}'.format(file))\n",
    "    with open(file, 'w') as fp:\n",
    "        writer = csv.writer(fp)\n",
    "        writer.writerow(['id', 'tested_positive'])\n",
    "        for i, p in enumerate(preds):\n",
    "            writer.writerow([i, p])\n",
    "\n",
    "preds = test(tt_set, model, device)  # predict COVID-19 cases with your model\n",
    "save_pred(preds, 'pred.csv')         # save prediction file to pred.csv"
   ]
  },
  {
   "cell_type": "code",
   "execution_count": 26,
   "id": "639da989",
   "metadata": {},
   "outputs": [
    {
     "name": "stdout",
     "output_type": "stream",
     "text": [
      "1\n"
     ]
    }
   ],
   "source": []
  },
  {
   "cell_type": "code",
   "execution_count": 31,
   "id": "d936c214",
   "metadata": {
    "scrolled": false
   },
   "outputs": [],
   "source": []
  },
  {
   "cell_type": "code",
   "execution_count": 30,
   "id": "fb03f4b6",
   "metadata": {},
   "outputs": [],
   "source": []
  },
  {
   "cell_type": "code",
   "execution_count": null,
   "id": "d988b700",
   "metadata": {},
   "outputs": [],
   "source": []
  }
 ],
 "metadata": {
  "kernelspec": {
   "display_name": "Python [conda env:cu118py310]",
   "language": "python",
   "name": "conda-env-cu118py310-py"
  },
  "language_info": {
   "codemirror_mode": {
    "name": "ipython",
    "version": 3
   },
   "file_extension": ".py",
   "mimetype": "text/x-python",
   "name": "python",
   "nbconvert_exporter": "python",
   "pygments_lexer": "ipython3",
   "version": "3.10.12"
  },
  "toc": {
   "base_numbering": 1,
   "nav_menu": {},
   "number_sections": true,
   "sideBar": true,
   "skip_h1_title": false,
   "title_cell": "Table of Contents",
   "title_sidebar": "Contents",
   "toc_cell": false,
   "toc_position": {},
   "toc_section_display": true,
   "toc_window_display": false
  },
  "varInspector": {
   "cols": {
    "lenName": 16,
    "lenType": 16,
    "lenVar": 40
   },
   "kernels_config": {
    "python": {
     "delete_cmd_postfix": "",
     "delete_cmd_prefix": "del ",
     "library": "var_list.py",
     "varRefreshCmd": "print(var_dic_list())"
    },
    "r": {
     "delete_cmd_postfix": ") ",
     "delete_cmd_prefix": "rm(",
     "library": "var_list.r",
     "varRefreshCmd": "cat(var_dic_list()) "
    }
   },
   "types_to_exclude": [
    "module",
    "function",
    "builtin_function_or_method",
    "instance",
    "_Feature"
   ],
   "window_display": false
  }
 },
 "nbformat": 4,
 "nbformat_minor": 5
}

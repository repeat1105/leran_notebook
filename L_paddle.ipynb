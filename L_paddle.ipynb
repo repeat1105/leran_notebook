{
 "cells": [
  {
   "cell_type": "code",
   "execution_count": 30,
   "id": "0bafe754",
   "metadata": {},
   "outputs": [],
   "source": [
    "import paddle\n",
    "from paddle.nn import Linear\n",
    "import paddle.nn.functional as F\n",
    "import numpy as np\n",
    "import os \n",
    "import random"
   ]
  },
  {
   "cell_type": "code",
   "execution_count": 6,
   "id": "8caf4dfa",
   "metadata": {},
   "outputs": [
    {
     "name": "stdout",
     "output_type": "stream",
     "text": [
      "Collecting sklearn\n",
      "  Downloading sklearn-0.0.post5.tar.gz (3.7 kB)\n",
      "  Preparing metadata (setup.py) ... \u001b[?25ldone\n",
      "\u001b[?25hBuilding wheels for collected packages: sklearn\n",
      "  Building wheel for sklearn (setup.py) ... \u001b[?25ldone\n",
      "\u001b[?25h  Created wheel for sklearn: filename=sklearn-0.0.post5-py3-none-any.whl size=2951 sha256=0c560fd4848649d958951063490c797a60349baf8ab9df8f0095a90d6df19e31\n",
      "  Stored in directory: /home/zhanglangeba/.cache/pip/wheels/5c/47/e1/386fa7740f1947ad87d16c68041c16ad8c23ca2bfd139a3fe5\n",
      "Successfully built sklearn\n",
      "Installing collected packages: sklearn\n",
      "Successfully installed sklearn-0.0.post5\n"
     ]
    }
   ],
   "source": [
    "!pip install sklearn"
   ]
  },
  {
   "cell_type": "code",
   "execution_count": 10,
   "id": "5f2551cf",
   "metadata": {},
   "outputs": [
    {
     "ename": "ModuleNotFoundError",
     "evalue": "No module named 'sklearn'",
     "output_type": "error",
     "traceback": [
      "\u001b[0;31m---------------------------------------------------------------------------\u001b[0m",
      "\u001b[0;31mModuleNotFoundError\u001b[0m                       Traceback (most recent call last)",
      "Cell \u001b[0;32mIn[10], line 1\u001b[0m\n\u001b[0;32m----> 1\u001b[0m \u001b[38;5;28;01mfrom\u001b[39;00m \u001b[38;5;21;01msklearn\u001b[39;00m\u001b[38;5;21;01m.\u001b[39;00m\u001b[38;5;21;01mmodel_selection\u001b[39;00m \u001b[38;5;28;01mimport\u001b[39;00m train_test_split\n",
      "\u001b[0;31mModuleNotFoundError\u001b[0m: No module named 'sklearn'"
     ]
    }
   ],
   "source": [
    "from sklearn.model_selection import train_test_split"
   ]
  },
  {
   "cell_type": "code",
   "execution_count": 31,
   "id": "4f4f7e93",
   "metadata": {},
   "outputs": [],
   "source": [
    "def load_data():\n",
    "    datafile=\"housing.data\"\n",
    "    data = np.fromfile(datafile, sep=' ', dtype=np.float32)\n",
    "    feature_names = [ 'CRIM', 'ZN', 'INDUS', 'CHAS', 'NOX', 'RM', 'AGE', \\\n",
    "                      'DIS', 'RAD', 'TAX', 'PTRATIO', 'B', 'LSTAT', 'MEDV' ]\n",
    "    feature_lens=len(feature_names)\n",
    "    data= data.reshape(-1,feature_lens)\n",
    "    ratio=0.8\n",
    "    offset = int(data.shape[0] * ratio)\n",
    "    training_data = data[:offset]\n",
    "    maximums,minimums=training_data.max(axis=0),training_data.min(axis=0)  #不应该是1  列算吗\n",
    "    global max_values\n",
    "    global min_values\n",
    "   \n",
    "    max_values = maximums\n",
    "    min_values = minimums\n",
    "    \n",
    "    # 对数据进行归一化处理\n",
    "    for i in range(feature_lens):\n",
    "        data[:, i] = (data[:, i] - min_values[i]) / (maximums[i] - minimums[i])\n",
    "    training_data = data[:offset]\n",
    "    test_data = data[offset:]\n",
    "    return training_data, test_data"
   ]
  },
  {
   "cell_type": "code",
   "execution_count": 32,
   "id": "2ff44d03",
   "metadata": {},
   "outputs": [
    {
     "name": "stdout",
     "output_type": "stream",
     "text": [
      "(404, 14)\n",
      "[2.35922547e-04 0.00000000e+00 2.62405723e-01 0.00000000e+00\n",
      " 1.72839552e-01 5.47997713e-01 7.82698274e-01 3.48961979e-01\n",
      " 4.34782617e-02 1.14822544e-01 5.53191364e-01 1.00000000e+00\n",
      " 2.04470202e-01 3.68888885e-01]\n"
     ]
    }
   ],
   "source": [
    "training_data, test_data = load_data()\n",
    "print(training_data.shape)\n",
    "print(training_data[1,:])"
   ]
  },
  {
   "cell_type": "code",
   "execution_count": 33,
   "id": "417993c4",
   "metadata": {},
   "outputs": [],
   "source": [
    "class Reg(paddle.nn.Layer):\n",
    "    def __init__(self):\n",
    "        super(Reg,self).__init__()\n",
    "        self.Net=Linear(in_features=13,out_features=1)\n",
    "    def forward(self,x):\n",
    "        return self.Net(x)"
   ]
  },
  {
   "cell_type": "code",
   "execution_count": 45,
   "id": "62d87352",
   "metadata": {},
   "outputs": [
    {
     "name": "stdout",
     "output_type": "stream",
     "text": [
      "epoch: 0, iter: 0, loss is: [1.1948652]\n",
      "epoch: 0, iter: 10, loss is: [0.28370228]\n",
      "epoch: 0, iter: 20, loss is: [0.12305724]\n",
      "epoch: 1, iter: 0, loss is: [0.09070122]\n",
      "epoch: 1, iter: 10, loss is: [0.08819264]\n",
      "epoch: 1, iter: 20, loss is: [0.05256382]\n",
      "epoch: 2, iter: 0, loss is: [0.05866911]\n",
      "epoch: 2, iter: 10, loss is: [0.12725358]\n",
      "epoch: 2, iter: 20, loss is: [0.02419819]\n",
      "epoch: 3, iter: 0, loss is: [0.09099519]\n",
      "epoch: 3, iter: 10, loss is: [0.10967546]\n",
      "epoch: 3, iter: 20, loss is: [0.01771724]\n",
      "epoch: 4, iter: 0, loss is: [0.08686951]\n",
      "epoch: 4, iter: 10, loss is: [0.07093805]\n",
      "epoch: 4, iter: 20, loss is: [0.11444576]\n",
      "epoch: 5, iter: 0, loss is: [0.03867127]\n",
      "epoch: 5, iter: 10, loss is: [0.03514868]\n",
      "epoch: 5, iter: 20, loss is: [0.04154563]\n",
      "epoch: 6, iter: 0, loss is: [0.02482323]\n",
      "epoch: 6, iter: 10, loss is: [0.03945965]\n",
      "epoch: 6, iter: 20, loss is: [0.09589551]\n",
      "epoch: 7, iter: 0, loss is: [0.0488534]\n",
      "epoch: 7, iter: 10, loss is: [0.04810118]\n",
      "epoch: 7, iter: 20, loss is: [0.05040831]\n",
      "epoch: 8, iter: 0, loss is: [0.04565408]\n",
      "epoch: 8, iter: 10, loss is: [0.06293539]\n",
      "epoch: 8, iter: 20, loss is: [0.08583157]\n",
      "epoch: 9, iter: 0, loss is: [0.03580544]\n",
      "epoch: 9, iter: 10, loss is: [0.06397597]\n",
      "epoch: 9, iter: 20, loss is: [0.03156085]\n"
     ]
    }
   ],
   "source": [
    "model=Reg()\n",
    "model.train()\n",
    "optimizer=paddle.optimizer.SGD(learning_rate=0.01,parameters=model.parameters())\n",
    "epochs=10\n",
    "batch_size=16\n",
    "for epoch in range(epochs):\n",
    "    np.random.shuffle(training_data)\n",
    "    mini_batches=[training_data[i:i+batch_size] for i in range(0,len(training_data),batch_size)]\n",
    "    \n",
    "    for i,mini_batch in enumerate(mini_batches):\n",
    "        x=np.array(mini_batch[:,:-1])\n",
    "        y=np.array(mini_batch[:,-1])\n",
    "        x=paddle.to_tensor(x)\n",
    "        y=paddle.to_tensor(y)\n",
    "        y_pre=model(x)\n",
    "        loss=F.square_error_cost(y_pre,label=y)  #两个向量之间损失    长度等于batch_size \n",
    "        avg_loss=paddle.mean(loss)\n",
    "        if i%10==0:\n",
    "            print(\"epoch: {}, iter: {}, loss is: {}\".format(epoch,i, avg_loss.numpy()))\n",
    "        avg_loss.backward()  #用这个算吗？ \n",
    "        optimizer.step()\n",
    "        optimizer.clear_grad()   #不一样"
   ]
  },
  {
   "cell_type": "code",
   "execution_count": 28,
   "id": "6791e0c2",
   "metadata": {},
   "outputs": [],
   "source": [
    "x=np.ones(2,10)\n",
    "print(x[:,-1])"
   ]
  },
  {
   "cell_type": "code",
   "execution_count": 46,
   "id": "4cea4e5a",
   "metadata": {},
   "outputs": [],
   "source": [
    "paddle.save(model.state_dict(),'lr_pdparams')"
   ]
  },
  {
   "cell_type": "code",
   "execution_count": null,
   "id": "56a91ce1",
   "metadata": {},
   "outputs": [],
   "source": []
  }
 ],
 "metadata": {
  "kernelspec": {
   "display_name": "Python [conda env:pd24py310]",
   "language": "python",
   "name": "conda-env-pd24py310-py"
  },
  "language_info": {
   "codemirror_mode": {
    "name": "ipython",
    "version": 3
   },
   "file_extension": ".py",
   "mimetype": "text/x-python",
   "name": "python",
   "nbconvert_exporter": "python",
   "pygments_lexer": "ipython3",
   "version": "3.10.12"
  },
  "toc": {
   "base_numbering": 1,
   "nav_menu": {},
   "number_sections": true,
   "sideBar": true,
   "skip_h1_title": false,
   "title_cell": "Table of Contents",
   "title_sidebar": "Contents",
   "toc_cell": false,
   "toc_position": {},
   "toc_section_display": true,
   "toc_window_display": false
  },
  "varInspector": {
   "cols": {
    "lenName": 16,
    "lenType": 16,
    "lenVar": 40
   },
   "kernels_config": {
    "python": {
     "delete_cmd_postfix": "",
     "delete_cmd_prefix": "del ",
     "library": "var_list.py",
     "varRefreshCmd": "print(var_dic_list())"
    },
    "r": {
     "delete_cmd_postfix": ") ",
     "delete_cmd_prefix": "rm(",
     "library": "var_list.r",
     "varRefreshCmd": "cat(var_dic_list()) "
    }
   },
   "types_to_exclude": [
    "module",
    "function",
    "builtin_function_or_method",
    "instance",
    "_Feature"
   ],
   "window_display": false
  }
 },
 "nbformat": 4,
 "nbformat_minor": 5
}
